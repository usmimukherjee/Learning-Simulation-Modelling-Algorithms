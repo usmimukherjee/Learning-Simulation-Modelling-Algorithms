{
 "cells": [
  {
   "cell_type": "markdown",
   "metadata": {},
   "source": [
    "## Imports"
   ]
  },
  {
   "cell_type": "code",
   "execution_count": 3,
   "metadata": {},
   "outputs": [
    {
     "name": "stderr",
     "output_type": "stream",
     "text": [
      "C:\\Users\\usmim\\AppData\\Local\\Temp\\ipykernel_14500\\4073521120.py:4: DeprecationWarning: \n",
      "Pyarrow will become a required dependency of pandas in the next major release of pandas (pandas 3.0),\n",
      "(to allow more performant data types, such as the Arrow string type, and better interoperability with other libraries)\n",
      "but was not found to be installed on your system.\n",
      "If this would cause problems for you,\n",
      "please provide us feedback at https://github.com/pandas-dev/pandas/issues/54466\n",
      "        \n",
      "  import pandas as pd\n"
     ]
    }
   ],
   "source": [
    "import numpy as np\n",
    "import matplotlib.pyplot as plt\n",
    "import matplotlib\n",
    "import pandas as pd\n",
    "from tqdm import tqdm"
   ]
  },
  {
   "cell_type": "markdown",
   "metadata": {},
   "source": [
    "## SIR  Model Meaning\n",
    "\n",
    "Run on deterministic differential equations but can be used with stochastic or random framework\n",
    "Three parts\n",
    "* Suseptible - not infected \n",
    "* Infected - infected\n",
    "* Recovered - recovered, immune or deceased"
   ]
  },
  {
   "cell_type": "markdown",
   "metadata": {},
   "source": [
    "## Mathematical SIR Model or Compartmental Epidemeology Model"
   ]
  },
  {
   "cell_type": "markdown",
   "metadata": {},
   "source": [
    "* At each time step t \n",
    "* a certain amount of people are traversing from S to I and from I to R, \n",
    "* the total number of individuals N = S+I+R is constant."
   ]
  },
  {
   "attachments": {
    "image.png": {
     "image/png": "[encoded data removed]"
    }
   },
   "cell_type": "markdown",
   "metadata": {},
   "source": [
    "![image.png](attachment:image.png)\n"
   ]
  },
  {
   "cell_type": "markdown",
   "metadata": {},
   "source": [
    "Here :\n",
    "* new suceptible are beta * S * I / N i.e dS/dt\n",
    "* new recoveries are gamma * I i.e dR/dt\n",
    "* new infected is dS/dt - dR/dt\n"
   ]
  },
  {
   "cell_type": "markdown",
   "metadata": {},
   "source": [
    "Important Points to note:\n",
    "\n",
    "S(t) + I(t) + R(t) = N (constant at any point in time)\n",
    "\n",
    "differentiating with respect to time\n",
    "\n",
    "dS/dt + dI/dt + dR/dt = 0"
   ]
  },
  {
   "cell_type": "markdown",
   "metadata": {},
   "source": [
    "* beta\n",
    "\n",
    "It represents the effective contact rate of the disease, i.e., the probability of transmitting the disease from an infectious individual to a susceptible individual per unit time.\n",
    "\n",
    "beta = infection_chance * average_contacts\n",
    "\n",
    "* gamma\n",
    "\n",
    "It represents the recovery rate, i.e., the rate at which infectious individuals recover and are removed from the infectious compartment.\n",
    "\n",
    "gamma = 1/recovery rate"
   ]
  },
  {
   "cell_type": "code",
   "execution_count": 4,
   "metadata": {},
   "outputs": [],
   "source": [
    "class SIRModel:\n",
    "    \n",
    "    \"\"\" parameters:\n",
    "    total_agents: total population\n",
    "    initial_infected: initial infected population\n",
    "    infection_chance: infection chance\n",
    "    average_contacts: average contacts per day\n",
    "    recovery_days: recovery days \n",
    "    \"\"\"\n",
    "    \n",
    "    def __init__(self, total_agents, initial_infected, infection_chance, average_contacts, recovery_days):\n",
    "       \n",
    "        # Initialize parameters\n",
    "        self.total_agents = total_agents # Total population\n",
    "        self.initial_infected = initial_infected # Initial infected population\n",
    "        self.infection_chance = infection_chance # infection chance\n",
    "        self.average_contacts = average_contacts # average contacts per day\n",
    "        self.recovery_days = recovery_days # recovery days\n",
    "        \n",
    "        # Initialize compartments\n",
    "        self.S = total_agents - initial_infected # initial susceptible population is total population at time zero\n",
    "        self.I = initial_infected # initial infected population which is zero\n",
    "        self.R = 0 # initial recovered population which is zero\n",
    "        \n",
    "        # Lists to store values over time for S, I, and R\n",
    "        self.S_history = [] \n",
    "        self.I_history = []\n",
    "        self.R_history = []\n",
    "        \n",
    "        # Calculate constants using formulae\n",
    "        self.beta = infection_chance * average_contacts\n",
    "        self.gamma = 1.0 / recovery_days\n",
    "        \n",
    "        # Print initialized parameters\n",
    "        print(\"SIR Model initialized with:\")\n",
    "        print(\"Beta:\", self.beta)\n",
    "        print(\"Gamma:\", self.gamma)\n",
    "\n",
    "    \n",
    "    def calculate_step(self):\n",
    "        # Calculate total population\n",
    "        N = self.S + self.I + self.R\n",
    "        \n",
    "        # Store current values\n",
    "        S = self.S\n",
    "        I = self.I\n",
    "        \n",
    "        # Calculate using SIR model differential equations\n",
    "        new_susceptible = self.beta * S * I / N\n",
    "        new_recoveries = self.gamma * I\n",
    "        \n",
    "        # Update values\n",
    "        self.S -= new_susceptible\n",
    "        self.I += new_susceptible - new_recoveries # new infections\n",
    "        self.R += new_recoveries\n",
    "        \n",
    "        # Record values for this step in lists\n",
    "        self.S_history.append(self.S)\n",
    "        self.I_history.append(self.I)\n",
    "        self.R_history.append(self.R)\n"
   ]
  },
  {
   "cell_type": "code",
   "execution_count": 5,
   "metadata": {},
   "outputs": [
    {
     "name": "stdout",
     "output_type": "stream",
     "text": [
      "SIR Model initialized with:\n",
      "Beta: 0.225\n",
      "Gamma: 0.1\n",
      "Simulate SIR Model\n"
     ]
    },
    {
     "name": "stderr",
     "output_type": "stream",
     "text": [
      "100%|██████████| 120/120 [00:00<?, ?it/s]\n"
     ]
    }
   ],
   "source": [
    "total_agents = 10000\n",
    "duration = 120\n",
    "initial_infected = 100\n",
    "allStats = []\n",
    "\n",
    "sir_model = SIRModel(total_agents, initial_infected, infection_chance=0.025, average_contacts=9, recovery_days=10)\n",
    "print(\"Simulate SIR Model\")\n",
    "for i in tqdm(range(duration)):        \n",
    "    sir_model.calculate_step()"
   ]
  },
  {
   "cell_type": "code",
   "execution_count": 6,
   "metadata": {},
   "outputs": [
    {
     "data": {
      "image/png": "[encoded data removed]",
      "text/plain": [
       "<Figure size 1000x600 with 1 Axes>"
      ]
     },
     "metadata": {},
     "output_type": "display_data"
    }
   ],
   "source": [
    "x = np.linspace(0,duration-1,duration)\n",
    "plt.figure(figsize=(10, 6))\n",
    "# Plot susceptible individuals over time\n",
    "plt.plot(x, sir_model.S_history, label='Susceptible', color='blue')\n",
    "# Plot infectious individuals over time\n",
    "plt.plot(x, sir_model.I_history, label='Infectious', color='red')\n",
    "# Plot recovered individuals over time\n",
    "plt.plot(x, sir_model.R_history, label='Recovered', color='green')\n",
    "\n",
    "plt.title('SIR Model Simulation')\n",
    "plt.xlabel('Time')\n",
    "plt.ylabel('Population')\n",
    "plt.legend()\n",
    "plt.grid(True)\n",
    "plt.show()"
   ]
  },
  {
   "cell_type": "markdown",
   "metadata": {},
   "source": [
    "However, we assume that the population is homogeneous, organized into three well defined, perfectly mixed groups.\n",
    "The interactions that are modeled are only on average.\n",
    "Every infected individual infects on each day a fixed number of people and a constant fraction of all infected individuals is cured each day."
   ]
  },
  {
   "cell_type": "markdown",
   "metadata": {},
   "source": [
    "## Agent Based SIR Model"
   ]
  },
  {
   "cell_type": "code",
   "execution_count": 101,
   "metadata": {},
   "outputs": [
    {
     "name": "stdout",
     "output_type": "stream",
     "text": [
      "<class 'pandas.core.frame.DataFrame'>\n",
      "RangeIndex: 10000 entries, 0 to 9999\n",
      "Data columns (total 1 columns):\n",
      " #   Column  Non-Null Count  Dtype  \n",
      "---  ------  --------------  -----  \n",
      " 0   state   10000 non-null  float64\n",
      "dtypes: float64(1)\n",
      "memory usage: 78.3 KB\n"
     ]
    }
   ],
   "source": [
    "# creating a dataframe of total population and their current state\n",
    "# state 0 is susceptible, 1 is infected, 2 is recovered\n",
    "\n",
    "total_agents = 10000\n",
    "state = np.zeros(total_agents)\n",
    "\n",
    "data = {\"state\": state} \n",
    "\n",
    "df = pd.DataFrame(data)\n",
    "df.info()"
   ]
  },
  {
   "cell_type": "markdown",
   "metadata": {},
   "source": [
    "The infect and recover functions are called at every time step."
   ]
  },
  {
   "cell_type": "code",
   "execution_count": 102,
   "metadata": {},
   "outputs": [],
   "source": [
    "# function to infect the agents based on the contacts and probability\n",
    "def infect(df, contacts, probability=1.0):\n",
    "    # Count how many times each contact appears\n",
    "    unique, counts = np.unique(contacts, return_counts=True)\n",
    "    \n",
    "    # generate a random number between 0 to 1 for each unique agent in the contact list \n",
    "    # and update the state from sucseptible (0) to infected (1) \n",
    "    # if this is below a probability threshold.\n",
    "    random_prob = np.random.uniform(0, 1, len(unique))\n",
    "\n",
    "    # Get the current state of each unique contact\n",
    "    state = df.loc[unique, \"state\"]\n",
    "    \n",
    "    # Calculate the probability of infection for each unique contact\n",
    "    probability = 1 - np.power(1 - probability, counts)\n",
    "    \n",
    "    # Determine if each contact is infected\n",
    "    change = np.array(random_prob <= probability).astype(int)\n",
    "    \n",
    "    # Update the state of contacts based on infection\n",
    "    df.loc[unique, \"state\"] = state + np.maximum(change * (1 - state), 0)"
   ]
  },
  {
   "cell_type": "code",
   "execution_count": 103,
   "metadata": {},
   "outputs": [],
   "source": [
    "def recover(df, recovery_probability=1.0):\n",
    "    \n",
    "    # Generate random numbers for each infected agent\n",
    "    random_prob = np.random.uniform(0, 1, len(df[df[\"state\"] == 1]))\n",
    "    \n",
    "    # Determine if each infected agent recovers based on the recovery probability which for now has been set to 1\n",
    "    chance = np.array(random_prob <= recovery_probability).astype(int)\n",
    "    \n",
    "    # Update the state of infected agents who recover\n",
    "    # the state will be set to 2 for recovered if chance is 1\n",
    "    df.loc[df[\"state\"] == 1, \"state\"] = 1 + chance  \n",
    "    \n",
    "    return df"
   ]
  },
  {
   "cell_type": "code",
   "execution_count": 104,
   "metadata": {},
   "outputs": [],
   "source": [
    "def init(total_agents=1000, num_infected=1):\n",
    "    # Create an array representing the state of each agent (0 for susceptible)\n",
    "    state = np.zeros(total_agents)\n",
    "    \n",
    "    # Create an array representing the neighborhood of each agent (currently not used)\n",
    "    # neighborhood = np.zeros(total_agents)\n",
    "    \n",
    "    # Create a DataFrame to store the state and neighborhood data\n",
    "    df = pd.DataFrame({\"state\": state})\n",
    "    \n",
    "    # Randomly select 'num_infected' agents to be initially infected\n",
    "    patient_zero = np.random.choice(df.index, num_infected, replace=False)\n",
    "    \n",
    "    # Infect the initially selected agents\n",
    "    df.loc[patient_zero, \"state\"] = 1  # Set state to 1 for infected\n",
    "    \n",
    "    return df"
   ]
  },
  {
   "cell_type": "code",
   "execution_count": 105,
   "metadata": {},
   "outputs": [],
   "source": [
    "def step(df):\n",
    "    # Count the number of infected individuals\n",
    "    n_infected = (df[\"state\"] == 1).sum()\n",
    "    \n",
    "    # Select random contacts for infected individuals\n",
    "    contacts = np.random.choice(df.index, random_contacts * n_infected, replace=True)\n",
    "    \n",
    "    # Infect the selected contacts\n",
    "    infect(df, contacts, chance_of_infection)\n",
    "    \n",
    "    # Recover infected individuals\n",
    "    recover(df, chance_of_recovery)"
   ]
  },
  {
   "cell_type": "code",
   "execution_count": 106,
   "metadata": {},
   "outputs": [],
   "source": [
    "def simulate(df, stats, nSteps=100, mode=\"random\", nRandomContacts=0):\n",
    "    # Iterate over the specified number of simulation steps\n",
    "    for _ in tqdm(range(nSteps)):\n",
    "        # Perform a simulation step\n",
    "        step(df)\n",
    "        \n",
    "        # Collect statistics at each step\n",
    "        stats[\"Susceptible\"].append(df[\"state\"].eq(0).sum())    \n",
    "        stats[\"Infected\"].append(df[\"state\"].eq(1).sum())\n",
    "        stats[\"Recovered\"].append(df[\"state\"].eq(2).sum())"
   ]
  },
  {
   "cell_type": "markdown",
   "metadata": {},
   "source": [
    "A single run of experiment using some values"
   ]
  },
  {
   "cell_type": "code",
   "execution_count": 107,
   "metadata": {},
   "outputs": [],
   "source": [
    "# Define parameters\n",
    "random_contacts = 9\n",
    "chance_of_infection = 0.025\n",
    "days_cured_after = 10\n",
    "chance_of_recovery = 1.0 / days_cured_after\n",
    "num_experiments = 10\n",
    "num_agents = 10000\n",
    "num_steps = 150\n",
    "num_patient_zero = 5\n"
   ]
  },
  {
   "cell_type": "code",
   "execution_count": 108,
   "metadata": {},
   "outputs": [
    {
     "name": "stdout",
     "output_type": "stream",
     "text": [
      "              state\n",
      "count  10000.000000\n",
      "mean       0.000500\n",
      "std        0.022356\n",
      "min        0.000000\n",
      "25%        0.000000\n",
      "50%        0.000000\n",
      "75%        0.000000\n",
      "max        1.000000\n"
     ]
    },
    {
     "name": "stderr",
     "output_type": "stream",
     "text": [
      "100%|██████████| 150/150 [00:00<00:00, 272.79it/s]"
     ]
    },
    {
     "name": "stdout",
     "output_type": "stream",
     "text": [
      "[{'Infected': [7, 10, 12, 14, 17, 17, 15, 16, 24, 25, 26, 25, 25, 23, 24, 26, 27, 29, 31, 36, 44, 47, 53, 56, 66, 67, 76, 79, 80, 89, 93, 108, 112, 123, 134, 138, 143, 162, 176, 180, 196, 219, 224, 248, 286, 319, 336, 373, 395, 422, 452, 484, 516, 547, 573, 613, 658, 682, 719, 756, 796, 838, 880, 911, 941, 1011, 1053, 1107, 1139, 1181, 1222, 1213, 1227, 1268, 1300, 1327, 1345, 1366, 1373, 1362, 1372, 1370, 1363, 1339, 1328, 1287, 1253, 1230, 1212, 1177, 1132, 1088, 1024, 999, 961, 925, 893, 847, 814, 777, 745, 716, 697, 662, 650, 621, 590, 550, 512, 491, 469, 438, 411, 403, 385, 373, 343, 339, 333, 316, 300, 282, 265, 249, 227, 216, 208, 202, 193, 182, 173, 167, 159, 147, 143, 130, 124, 113, 115, 111, 100, 94, 89, 86, 85, 80, 72, 66, 56, 54], 'Recovered': [1, 3, 4, 5, 6, 8, 12, 12, 12, 14, 18, 21, 24, 29, 34, 36, 40, 43, 46, 49, 51, 59, 63, 69, 75, 85, 91, 100, 108, 116, 130, 140, 156, 168, 183, 201, 224, 235, 254, 282, 306, 333, 362, 388, 419, 453, 491, 529, 584, 631, 676, 724, 793, 860, 927, 993, 1064, 1149, 1217, 1311, 1404, 1507, 1601, 1713, 1828, 1930, 2039, 2149, 2280, 2417, 2551, 2702, 2831, 2969, 3090, 3215, 3369, 3503, 3642, 3796, 3940, 4084, 4236, 4384, 4529, 4695, 4849, 4991, 5125, 5246, 5375, 5516, 5646, 5751, 5867, 5957, 6052, 6147, 6223, 6305, 6380, 6466, 6537, 6610, 6674, 6744, 6806, 6877, 6943, 6997, 7053, 7110, 7159, 7190, 7230, 7263, 7314, 7340, 7361, 7391, 7418, 7451, 7486, 7513, 7543, 7567, 7584, 7602, 7621, 7638, 7657, 7678, 7691, 7712, 7724, 7743, 7763, 7776, 7782, 7793, 7809, 7822, 7829, 7836, 7846, 7855, 7866, 7873, 7886, 7892], 'Susceptible': [9992, 9987, 9984, 9981, 9977, 9975, 9973, 9972, 9964, 9961, 9956, 9954, 9951, 9948, 9942, 9938, 9933, 9928, 9923, 9915, 9905, 9894, 9884, 9875, 9859, 9848, 9833, 9821, 9812, 9795, 9777, 9752, 9732, 9709, 9683, 9661, 9633, 9603, 9570, 9538, 9498, 9448, 9414, 9364, 9295, 9228, 9173, 9098, 9021, 8947, 8872, 8792, 8691, 8593, 8500, 8394, 8278, 8169, 8064, 7933, 7800, 7655, 7519, 7376, 7231, 7059, 6908, 6744, 6581, 6402, 6227, 6085, 5942, 5763, 5610, 5458, 5286, 5131, 4985, 4842, 4688, 4546, 4401, 4277, 4143, 4018, 3898, 3779, 3663, 3577, 3493, 3396, 3330, 3250, 3172, 3118, 3055, 3006, 2963, 2918, 2875, 2818, 2766, 2728, 2676, 2635, 2604, 2573, 2545, 2512, 2478, 2452, 2430, 2407, 2385, 2364, 2343, 2321, 2306, 2293, 2282, 2267, 2249, 2238, 2230, 2217, 2208, 2196, 2186, 2180, 2170, 2155, 2150, 2141, 2133, 2127, 2113, 2111, 2103, 2096, 2091, 2084, 2082, 2078, 2069, 2065, 2062, 2061, 2058, 2054]}]\n"
     ]
    },
    {
     "name": "stderr",
     "output_type": "stream",
     "text": [
      "\n"
     ]
    }
   ],
   "source": [
    "st = {\"Infected\": [], \"Recovered\": [], \"Susceptible\": []}\n",
    "df = init(num_agents, num_patient_zero)\n",
    "print(df.describe())\n",
    "all_stats = []\n",
    "# Simulate one run and collect statistics\n",
    "simulate(df, stats=st, nSteps=num_steps)\n",
    "all_stats.append(st)\n",
    "print(all_stats)"
   ]
  },
  {
   "cell_type": "markdown",
   "metadata": {},
   "source": [
    "Infected , Recovered and Susceptible after one run of the experiment"
   ]
  },
  {
   "cell_type": "code",
   "execution_count": 109,
   "metadata": {},
   "outputs": [
    {
     "data": {
      "text/html": [
       "<div>\n",
       "<style scoped>\n",
       "    .dataframe tbody tr th:only-of-type {\n",
       "        vertical-align: middle;\n",
       "    }\n",
       "\n",
       "    .dataframe tbody tr th {\n",
       "        vertical-align: top;\n",
       "    }\n",
       "\n",
       "    .dataframe thead th {\n",
       "        text-align: right;\n",
       "    }\n",
       "</style>\n",
       "<table border=\"1\" class=\"dataframe\">\n",
       "  <thead>\n",
       "    <tr style=\"text-align: right;\">\n",
       "      <th></th>\n",
       "      <th>Infected</th>\n",
       "      <th>Recovered</th>\n",
       "      <th>Susceptible</th>\n",
       "    </tr>\n",
       "  </thead>\n",
       "  <tbody>\n",
       "    <tr>\n",
       "      <th>0</th>\n",
       "      <td>[7, 10, 12, 14, 17, 17, 15, 16, 24, 25, 26, 25...</td>\n",
       "      <td>[1, 3, 4, 5, 6, 8, 12, 12, 12, 14, 18, 21, 24,...</td>\n",
       "      <td>[9992, 9987, 9984, 9981, 9977, 9975, 9973, 997...</td>\n",
       "    </tr>\n",
       "  </tbody>\n",
       "</table>\n",
       "</div>"
      ],
      "text/plain": [
       "                                            Infected  \\\n",
       "0  [7, 10, 12, 14, 17, 17, 15, 16, 24, 25, 26, 25...   \n",
       "\n",
       "                                           Recovered  \\\n",
       "0  [1, 3, 4, 5, 6, 8, 12, 12, 12, 14, 18, 21, 24,...   \n",
       "\n",
       "                                         Susceptible  \n",
       "0  [9992, 9987, 9984, 9981, 9977, 9975, 9973, 997...  "
      ]
     },
     "execution_count": 109,
     "metadata": {},
     "output_type": "execute_result"
    }
   ],
   "source": [
    "complete_stats = pd.DataFrame(all_stats)\n",
    "complete_stats"
   ]
  },
  {
   "cell_type": "markdown",
   "metadata": {},
   "source": [
    "5 runs of the simulation i.e experimenting 5 times"
   ]
  },
  {
   "cell_type": "code",
   "execution_count": 122,
   "metadata": {},
   "outputs": [
    {
     "name": "stderr",
     "output_type": "stream",
     "text": [
      "100%|██████████| 150/150 [00:00<00:00, 281.70it/s]\n",
      "100%|██████████| 150/150 [00:00<00:00, 352.01it/s]\n",
      "100%|██████████| 150/150 [00:00<00:00, 353.17it/s]\n",
      "100%|██████████| 150/150 [00:00<00:00, 356.21it/s]\n",
      "100%|██████████| 150/150 [00:00<00:00, 342.12it/s]\n"
     ]
    }
   ],
   "source": [
    "num_experiments = 5\n",
    "for i in range(num_experiments):\n",
    "    # Initialize the simulation\n",
    "    df = init(num_agents, num_patient_zero)\n",
    "    st = {\"Infected\": [], \"Recovered\": [], \"Susceptible\": []}\n",
    "    # Simulate one run and collect statistics\n",
    "    simulate(df, stats=st, nSteps=num_steps)\n",
    "    all_stats.append(st)"
   ]
  },
  {
   "cell_type": "markdown",
   "metadata": {},
   "source": [
    "Infected , Recovered and Susceptible after one run of the experiment"
   ]
  },
  {
   "cell_type": "code",
   "execution_count": 123,
   "metadata": {},
   "outputs": [
    {
     "data": {
      "text/html": [
       "<div>\n",
       "<style scoped>\n",
       "    .dataframe tbody tr th:only-of-type {\n",
       "        vertical-align: middle;\n",
       "    }\n",
       "\n",
       "    .dataframe tbody tr th {\n",
       "        vertical-align: top;\n",
       "    }\n",
       "\n",
       "    .dataframe thead th {\n",
       "        text-align: right;\n",
       "    }\n",
       "</style>\n",
       "<table border=\"1\" class=\"dataframe\">\n",
       "  <thead>\n",
       "    <tr style=\"text-align: right;\">\n",
       "      <th></th>\n",
       "      <th>Infected</th>\n",
       "      <th>Recovered</th>\n",
       "      <th>Susceptible</th>\n",
       "    </tr>\n",
       "  </thead>\n",
       "  <tbody>\n",
       "    <tr>\n",
       "      <th>0</th>\n",
       "      <td>[7, 10, 12, 14, 17, 17, 15, 16, 24, 25, 26, 25...</td>\n",
       "      <td>[1, 3, 4, 5, 6, 8, 12, 12, 12, 14, 18, 21, 24,...</td>\n",
       "      <td>[9992, 9987, 9984, 9981, 9977, 9975, 9973, 997...</td>\n",
       "    </tr>\n",
       "    <tr>\n",
       "      <th>1</th>\n",
       "      <td>[5, 7, 8, 7, 7, 9, 8, 9, 11, 9, 10, 11, 10, 13...</td>\n",
       "      <td>[0, 0, 2, 3, 7, 8, 9, 10, 13, 15, 16, 16, 18, ...</td>\n",
       "      <td>[9995, 9993, 9990, 9990, 9986, 9983, 9983, 998...</td>\n",
       "    </tr>\n",
       "    <tr>\n",
       "      <th>2</th>\n",
       "      <td>[5, 7, 10, 12, 16, 18, 23, 25, 27, 36, 37, 37,...</td>\n",
       "      <td>[1, 1, 1, 2, 2, 4, 4, 7, 9, 10, 16, 25, 29, 32...</td>\n",
       "      <td>[9994, 9992, 9989, 9986, 9982, 9978, 9973, 996...</td>\n",
       "    </tr>\n",
       "    <tr>\n",
       "      <th>3</th>\n",
       "      <td>[7, 8, 8, 9, 11, 10, 12, 12, 14, 11, 14, 14, 1...</td>\n",
       "      <td>[1, 1, 2, 2, 3, 6, 7, 9, 9, 14, 16, 18, 21, 23...</td>\n",
       "      <td>[9992, 9991, 9990, 9989, 9986, 9984, 9981, 997...</td>\n",
       "    </tr>\n",
       "    <tr>\n",
       "      <th>4</th>\n",
       "      <td>[6, 7, 8, 9, 8, 8, 10, 9, 13, 16, 17, 18, 19, ...</td>\n",
       "      <td>[1, 2, 3, 3, 7, 7, 7, 8, 8, 9, 10, 12, 15, 17,...</td>\n",
       "      <td>[9993, 9991, 9989, 9988, 9985, 9985, 9983, 998...</td>\n",
       "    </tr>\n",
       "    <tr>\n",
       "      <th>5</th>\n",
       "      <td>[6, 6, 4, 6, 10, 10, 11, 14, 14, 15, 15, 16, 1...</td>\n",
       "      <td>[0, 1, 3, 3, 3, 5, 6, 7, 8, 8, 9, 10, 13, 14, ...</td>\n",
       "      <td>[9994, 9993, 9993, 9991, 9987, 9985, 9983, 997...</td>\n",
       "    </tr>\n",
       "  </tbody>\n",
       "</table>\n",
       "</div>"
      ],
      "text/plain": [
       "                                            Infected  \\\n",
       "0  [7, 10, 12, 14, 17, 17, 15, 16, 24, 25, 26, 25...   \n",
       "1  [5, 7, 8, 7, 7, 9, 8, 9, 11, 9, 10, 11, 10, 13...   \n",
       "2  [5, 7, 10, 12, 16, 18, 23, 25, 27, 36, 37, 37,...   \n",
       "3  [7, 8, 8, 9, 11, 10, 12, 12, 14, 11, 14, 14, 1...   \n",
       "4  [6, 7, 8, 9, 8, 8, 10, 9, 13, 16, 17, 18, 19, ...   \n",
       "5  [6, 6, 4, 6, 10, 10, 11, 14, 14, 15, 15, 16, 1...   \n",
       "\n",
       "                                           Recovered  \\\n",
       "0  [1, 3, 4, 5, 6, 8, 12, 12, 12, 14, 18, 21, 24,...   \n",
       "1  [0, 0, 2, 3, 7, 8, 9, 10, 13, 15, 16, 16, 18, ...   \n",
       "2  [1, 1, 1, 2, 2, 4, 4, 7, 9, 10, 16, 25, 29, 32...   \n",
       "3  [1, 1, 2, 2, 3, 6, 7, 9, 9, 14, 16, 18, 21, 23...   \n",
       "4  [1, 2, 3, 3, 7, 7, 7, 8, 8, 9, 10, 12, 15, 17,...   \n",
       "5  [0, 1, 3, 3, 3, 5, 6, 7, 8, 8, 9, 10, 13, 14, ...   \n",
       "\n",
       "                                         Susceptible  \n",
       "0  [9992, 9987, 9984, 9981, 9977, 9975, 9973, 997...  \n",
       "1  [9995, 9993, 9990, 9990, 9986, 9983, 9983, 998...  \n",
       "2  [9994, 9992, 9989, 9986, 9982, 9978, 9973, 996...  \n",
       "3  [9992, 9991, 9990, 9989, 9986, 9984, 9981, 997...  \n",
       "4  [9993, 9991, 9989, 9988, 9985, 9985, 9983, 998...  \n",
       "5  [9994, 9993, 9993, 9991, 9987, 9985, 9983, 997...  "
      ]
     },
     "execution_count": 123,
     "metadata": {},
     "output_type": "execute_result"
    }
   ],
   "source": [
    "complete_stats_all_experiments = pd.DataFrame(all_stats)\n",
    "complete_stats_all_experiments"
   ]
  }
 ],
 "metadata": {
  "kernelspec": {
   "display_name": "Python 3",
   "language": "python",
   "name": "python3"
  },
  "language_info": {
   "codemirror_mode": {
    "name": "ipython",
    "version": 3
   },
   "file_extension": ".py",
   "mimetype": "text/x-python",
   "name": "python",
   "nbconvert_exporter": "python",
   "pygments_lexer": "ipython3",
   "version": "3.11.2"
  }
 },
 "nbformat": 4,
 "nbformat_minor": 2
}
