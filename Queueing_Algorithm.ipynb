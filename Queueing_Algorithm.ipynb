{
 "cells": [
  {
   "cell_type": "code",
   "execution_count": 2,
   "metadata": {},
   "outputs": [],
   "source": [
    "import numpy as np\n",
    "import queue\n",
    "import copy\n",
    "import matplotlib.pyplot as plt"
   ]
  },
  {
   "cell_type": "markdown",
   "metadata": {},
   "source": [
    "### MM1 Queue"
   ]
  },
  {
   "cell_type": "code",
   "execution_count": 2,
   "metadata": {},
   "outputs": [
    {
     "name": "stdout",
     "output_type": "stream",
     "text": [
      "Customer 1 served at time 2.2831886909106527\n"
     ]
    }
   ],
   "source": [
    "import simpy\n",
    "import random\n",
    "\n",
    "class MM1Queue:\n",
    "    def __init__(self, env, arrival_rate, service_rate):\n",
    "        # Initialize the simulation environment, server resource, and parameters\n",
    "        self.env = env\n",
    "        self.server = simpy.Resource(env, capacity=1)\n",
    "        self.arrival_rate = arrival_rate\n",
    "        self.service_rate = service_rate\n",
    "\n",
    "    def arrival_process(self):\n",
    "        # Generates customers following a Poisson process and triggers service process\n",
    "        customer_id = 1\n",
    "        while True:\n",
    "            # Generate inter-arrival time based on Poisson process\n",
    "            inter_arrival_time = random.expovariate(self.arrival_rate)\n",
    "            yield self.env.timeout(inter_arrival_time)\n",
    "\n",
    "            # Start the service process for the arriving customer\n",
    "            self.env.process(self.service_process(customer_id))\n",
    "            customer_id += 1\n",
    "\n",
    "    def service_process(self, customer_id):\n",
    "        # Processes the service for a customer\n",
    "        with self.server.request() as request:\n",
    "            # Request the server for service\n",
    "            yield request\n",
    "\n",
    "            # Generate service time based on exponential distribution\n",
    "            service_time = random.expovariate(self.service_rate)\n",
    "            yield self.env.timeout(service_time)\n",
    "\n",
    "            # Customer has been served, print the details\n",
    "            print(f\"Customer {customer_id} served at time {self.env.now}\")\n",
    "\n",
    "def mm1_simulation(arrival_rate, service_rate, simulation_time):\n",
    "    # Run the MM1 queue simulation\n",
    "    env = simpy.Environment()\n",
    "    mm1_queue = MM1Queue(env, arrival_rate, service_rate)\n",
    "    \n",
    "    # Start the arrival process\n",
    "    env.process(mm1_queue.arrival_process())\n",
    "    \n",
    "    # Run the simulation until the specified time\n",
    "    env.run(until=simulation_time)\n",
    "\n",
    "if __name__ == \"__main__\":\n",
    "    # Adjust these parameters based on your requirements\n",
    "    arrival_rate = 0.2\n",
    "    service_rate = 0.25\n",
    "    simulation_time = 10\n",
    "\n",
    "    # Run the MM1 queue simulation\n",
    "    mm1_simulation(arrival_rate, service_rate, simulation_time)\n"
   ]
  },
  {
   "cell_type": "markdown",
   "metadata": {},
   "source": [
    "### MMC Queue"
   ]
  },
  {
   "cell_type": "code",
   "execution_count": 2,
   "metadata": {},
   "outputs": [
    {
     "name": "stdout",
     "output_type": "stream",
     "text": [
      "Average Waiting Time: 1.79 time units\n"
     ]
    }
   ],
   "source": [
    "import simpy\n",
    "import random\n",
    "\n",
    "class MMCQueue:\n",
    "    def __init__(self, env, num_servers, arrival_rate, service_rate):\n",
    "        # Initialize the MMCQueue object with simulation environment, number of servers, arrival rate, and service rate\n",
    "        self.env = env\n",
    "        self.servers = simpy.Resource(env, capacity=num_servers)\n",
    "        self.arrival_rate = arrival_rate\n",
    "        self.service_rate = service_rate\n",
    "        self.waiting_time = 0\n",
    "        self.num_served_customers = 0\n",
    "\n",
    "    def customer_arrival_process(self):\n",
    "        # Process representing the arrival of customers to the system\n",
    "        customer_id = 1\n",
    "        while True:\n",
    "            # Generate exponentially distributed inter-arrival times\n",
    "            inter_arrival_time = random.expovariate(self.arrival_rate)\n",
    "            yield self.env.timeout(inter_arrival_time)\n",
    "\n",
    "            # Initiate the service process for the arrived customer\n",
    "            self.env.process(self.customer_service_process(customer_id))\n",
    "            customer_id += 1\n",
    "\n",
    "    def customer_service_process(self, customer_id):\n",
    "        # Process representing the service of customers by servers\n",
    "        arrival_time = self.env.now\n",
    "        with self.servers.request() as request:\n",
    "            yield request\n",
    "            # Generate exponentially distributed service times\n",
    "            service_time = random.expovariate(self.service_rate)\n",
    "            yield self.env.timeout(service_time)\n",
    "\n",
    "            # Calculate waiting time for the served customer\n",
    "            self.waiting_time += self.env.now - arrival_time\n",
    "            self.num_served_customers += 1\n",
    "\n",
    "    def run_simulation(self, sim_time):\n",
    "        # Run the simulation for a specified time\n",
    "        self.env.process(self.customer_arrival_process())\n",
    "        self.env.run(until=sim_time)\n",
    "\n",
    "if __name__ == \"__main__\":\n",
    "    num_servers = 2  # Number of servers in the system\n",
    "    arrival_rate = 0.2  # Customer arrival rate\n",
    "    service_rate = 0.3  # Service rate\n",
    "    simulation_time = 50  # Total simulation time\n",
    "\n",
    "    env = simpy.Environment()\n",
    "    mmc_queue = MMCQueue(env, num_servers, arrival_rate, service_rate)\n",
    "\n",
    "    # Run the MMCQueue simulation\n",
    "    mmc_queue.run_simulation(simulation_time)\n",
    "\n",
    "    # Calculate and print the average waiting time for served customers\n",
    "    average_waiting_time = mmc_queue.waiting_time / mmc_queue.num_served_customers\n",
    "    print(f\"Average Waiting Time: {average_waiting_time:.2f} time units\")\n"
   ]
  },
  {
   "cell_type": "markdown",
   "metadata": {},
   "source": [
    "### MG1 Queue"
   ]
  },
  {
   "cell_type": "code",
   "execution_count": 1,
   "metadata": {},
   "outputs": [
    {
     "name": "stdout",
     "output_type": "stream",
     "text": [
      "Customer 1 served. Waiting time: 1.816247526918484\n",
      "Customer 2 served. Waiting time: 1.5660577176978427\n",
      "Customer 3 served. Waiting time: 4.431049112819595\n",
      "Customer 4 served. Waiting time: 4.494157094756419\n"
     ]
    }
   ],
   "source": [
    "import simpy\n",
    "import numpy as np\n",
    "\n",
    "class MG1Queue:\n",
    "    def __init__(self, env, arrival_rate, service_rate):\n",
    "        self.env = env\n",
    "        self.server = simpy.Resource(env, capacity=1)\n",
    "        self.arrival_rate = arrival_rate\n",
    "        self.service_rate = service_rate\n",
    "        self.queue = simpy.Store(env)\n",
    "        self.env.process(self.customer_generator())\n",
    "\n",
    "    def customer_generator(self):\n",
    "        customer_id = 0\n",
    "        while True:\n",
    "            inter_arrival_time = np.random.exponential(1/self.arrival_rate)\n",
    "            yield self.env.timeout(inter_arrival_time)\n",
    "            customer_id += 1\n",
    "            self.env.process(self.customer(customer_id))\n",
    "\n",
    "    def customer(self, customer_id):\n",
    "        arrival_time = self.env.now\n",
    "        with self.server.request() as request:\n",
    "            yield request\n",
    "            service_time = np.random.exponential(1/self.service_rate)\n",
    "            yield self.env.timeout(service_time)\n",
    "            departure_time = self.env.now\n",
    "            waiting_time = departure_time - arrival_time\n",
    "            print(f\"Customer {customer_id} served. Waiting time: {waiting_time}\")\n",
    "\n",
    "def main():\n",
    "    arrival_rate = 0.5 \n",
    "    service_rate = 0.8 \n",
    "    simulation_time = 10 \n",
    "\n",
    "    env = simpy.Environment()\n",
    "    mg1_queue = MG1Queue(env, arrival_rate, service_rate)\n",
    "\n",
    "    env.run(until=simulation_time)\n",
    "\n",
    "if __name__ == \"__main__\":\n",
    "    main()\n"
   ]
  },
  {
   "cell_type": "code",
   "execution_count": 6,
   "metadata": {},
   "outputs": [
    {
     "name": "stdout",
     "output_type": "stream",
     "text": [
      "Customer 1 served. Waiting time: 0\n",
      "Customer 2 served. Waiting time: 0\n",
      "Customer 3 served. Waiting time: 0\n",
      "Customer 4 served. Waiting time: 0\n"
     ]
    }
   ],
   "source": [
    "import simpy\n",
    "\n",
    "class MD1Queue:\n",
    "    def __init__(self, env, arrival_interval, service_time):\n",
    "        self.env = env\n",
    "        self.server = simpy.Resource(env, capacity=1)\n",
    "        self.arrival_interval = arrival_interval\n",
    "        self.service_time = service_time\n",
    "        self.customer_id = 0\n",
    "        self.env.process(self.customer_generator())\n",
    "\n",
    "    def customer_generator(self):\n",
    "        while True:\n",
    "            yield self.env.timeout(self.arrival_interval)\n",
    "            self.customer_id += 1\n",
    "            self.env.process(self.customer(self.customer_id))\n",
    "\n",
    "    def customer(self, customer_id):\n",
    "        arrival_time = self.env.now\n",
    "        with self.server.request() as request:\n",
    "            yield request\n",
    "            service_start_time = self.env.now\n",
    "            yield self.env.timeout(self.service_time)\n",
    "            departure_time = self.env.now\n",
    "            waiting_time = service_start_time - arrival_time\n",
    "            print(f\"Customer {customer_id} served. Waiting time: {waiting_time}\")\n",
    "\n",
    "def main():\n",
    "    arrival_interval = 2  \n",
    "    service_time = 1  \n",
    "    simulation_time = 10 \n",
    "\n",
    "    env = simpy.Environment()\n",
    "    md1_queue = MD1Queue(env, arrival_interval, service_time)\n",
    "\n",
    "    env.run(until=simulation_time)\n",
    "\n",
    "if __name__ == \"__main__\":\n",
    "    main()\n"
   ]
  },
  {
   "cell_type": "code",
   "execution_count": null,
   "metadata": {},
   "outputs": [],
   "source": []
  }
 ],
 "metadata": {
  "kernelspec": {
   "display_name": "Python 3",
   "language": "python",
   "name": "python3"
  },
  "language_info": {
   "codemirror_mode": {
    "name": "ipython",
    "version": 3
   },
   "file_extension": ".py",
   "mimetype": "text/x-python",
   "name": "python",
   "nbconvert_exporter": "python",
   "pygments_lexer": "ipython3",
   "version": "3.11.2"
  }
 },
 "nbformat": 4,
 "nbformat_minor": 2
}
